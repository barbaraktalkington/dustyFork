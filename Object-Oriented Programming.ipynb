{
 "cells": [
  {
   "cell_type": "markdown",
   "metadata": {},
   "source": [
    "Author: Barbara Talkington\n",
    "\n",
    "Topic: Object-Oriented Programming with Python\n",
    "\n",
    "Date Created: Thursday, July 11, 2024\n",
    "\n",
    "Date Updated: Thursday, July 11, 2024"
   ]
  },
  {
   "cell_type": "markdown",
   "metadata": {},
   "source": [
    "# Object-Oriented Programming (OOP)?"
   ]
  },
  {
   "cell_type": "markdown",
   "metadata": {},
   "source": [
    "## What is Object-Oriented Programming (OOP)?\n",
    "\n",
    "Object-Oriented Programming is a programming paradigm that organizes software design around data, or objects, rather than functions and logic. It's an approach to designing and building applications that mimics how we think about and interact with real-world objects.\n",
    "\n",
    "### Core Concepts of OOP\n",
    "\n",
    "#### 1. Objects\n",
    "\n",
    "At the heart of OOP are objects. An object is a self-contained unit that consists of:\n",
    "- Data (attributes or properties)\n",
    "- Code (methods or functions)\n",
    "\n",
    "Objects represent entities in the program, which could be physical (like a car or a person) or conceptual (like a bank account or a music playlist).\n",
    "\n",
    "#### 2. Classes\n",
    "\n",
    "A class is a blueprint or template for creating objects. It defines:\n",
    "- The attributes that an object of that class will have\n",
    "- The methods that can be performed on those objects\n",
    "\n",
    "Think of a class as a cookie cutter, and objects as the cookies made from that cutter.\n",
    "\n",
    "### Key Principles of OOP\n",
    "\n",
    "#### 1. Encapsulation\n",
    "\n",
    "Encapsulation is the bundling of data and the methods that operate on that data within a single unit (object). It restricts direct access to some of an object's components, which is a means of preventing accidental interference and misuse of the methods and data.\n",
    "\n",
    "#### 2. Inheritance\n",
    "\n",
    "Inheritance allows a new class to be based on an existing class, inheriting its properties and methods. This promotes code reusability and establishes a relationship between parent and child classes.\n",
    "\n",
    "#### 3. Polymorphism\n",
    "\n",
    "Polymorphism allows objects of different classes to be treated as objects of a common super class. It also allows a single interface to represent different underlying forms (data types).\n",
    "\n",
    "#### 4. Abstraction\n",
    "\n",
    "Abstraction involves hiding complex implementation details and showing only the necessary features of an object. It helps in managing complexity by hiding unnecessary details from the user.\n",
    "\n",
    "### Benefits of OOP\n",
    "\n",
    "1. Modularity: Encapsulation enables creating self-contained objects, making code easier to maintain and modify.\n",
    "2. Reusability: Through inheritance, code can be reused, saving development time and effort.\n",
    "3. Flexibility: Polymorphism allows for more flexible and scalable code.\n",
    "4. Closer to real-world thinking: OOP models real-world entities, making it easier to relate to and understand the code structure.\n",
    "\n",
    "## Conclusion\n",
    "\n",
    "Object-Oriented Programming is a powerful paradigm that helps in creating structured, reusable, and maintainable code. By organizing software around objects that contain data and code, OOP mirrors the way we think about the world, making it an intuitive approach to software development. Its principles of encapsulation, inheritance, polymorphism, and abstraction provide a robust framework for building complex applications."
   ]
  },
  {
   "cell_type": "markdown",
   "metadata": {},
   "source": [
    "# How is OOP different than other methods of coding using python?\n",
    "\n",
    "To explain how Object-Oriented Programming (OOP) differs from other methods of coding in Python, I'll need to consider the main programming paradigms and how they're implemented in Python. Let me think this through:\n",
    "\n",
    "## OOP vs. Other Programming Paradigms in Python\n",
    "\n",
    "Python is a multi-paradigm language, meaning it supports different programming styles. The main paradigms used in Python are:\n",
    "\n",
    "1. Object-Oriented Programming (OOP)\n",
    "2. Procedural Programming\n",
    "3. Functional Programming\n",
    "\n",
    "Let's compare OOP to these other paradigms:\n",
    "\n",
    "### 1. OOP vs. Procedural Programming\n",
    "\n",
    "#### Procedural Programming:\n",
    "- Emphasizes writing procedures or functions that operate on data\n",
    "- Code is written as a sequence of instructions\n",
    "- Data and functions are separate entities\n",
    "\n",
    "#### How OOP Differs:\n",
    "- In OOP, data and functions are bundled together into objects\n",
    "- OOP focuses on creating reusable and modular code through classes and objects\n",
    "- Provides better data hiding and encapsulation\n",
    "\n",
    "### 2. OOP vs. Functional Programming\n",
    "\n",
    "#### Functional Programming:\n",
    "- Treats computation as the evaluation of mathematical functions\n",
    "- Avoids changing state and mutable data\n",
    "- Emphasizes the application of functions to inputs to produce outputs\n",
    "\n",
    "#### How OOP Differs:\n",
    "- OOP allows for mutable state within objects\n",
    "- In OOP, the focus is on objects that have state and behavior, rather than on functions\n",
    "- OOP provides a clear structure for the program through classes and objects\n"
   ]
  },
  {
   "cell_type": "markdown",
   "metadata": {},
   "source": [
    "### Specific Differences in Python Implementation"
   ]
  },
  {
   "cell_type": "markdown",
   "metadata": {},
   "source": [
    "#### 1. Code Organization"
   ]
  },
  {
   "cell_type": "code",
   "execution_count": 3,
   "metadata": {},
   "outputs": [
    {
     "name": "stdout",
     "output_type": "stream",
     "text": [
      "This is a Toyota Corolla\n"
     ]
    }
   ],
   "source": [
    "#- OOP in Python: Code is organized into classes and objects. For example:\n",
    "\n",
    "\n",
    "class Car:\n",
    "    def __init__(self, make, model):\n",
    "        self.make = make\n",
    "        self.model = model\n",
    "\n",
    "    def display_info(self):\n",
    "        print(f\"This is a {self.make} {self.model}\")\n",
    "\n",
    "my_car = Car(\"Toyota\", \"Corolla\")\n",
    "my_car.display_info()\n",
    "\n"
   ]
  },
  {
   "cell_type": "code",
   "execution_count": 4,
   "metadata": {},
   "outputs": [
    {
     "name": "stdout",
     "output_type": "stream",
     "text": [
      "This is a Toyota Corolla\n"
     ]
    }
   ],
   "source": [
    "#- Procedural in Python: Code is organized as a sequence of functions:\n",
    "\n",
    "def create_car(make, model):\n",
    "    return {\"make\": make, \"model\": model}\n",
    "\n",
    "def display_car_info(car):\n",
    "    print(f\"This is a {car['make']} {car['model']}\")\n",
    "\n",
    "my_car = create_car(\"Toyota\", \"Corolla\")\n",
    "display_car_info(my_car)"
   ]
  },
  {
   "cell_type": "markdown",
   "metadata": {},
   "source": [
    "#### 2. Data Handling\n",
    "\n"
   ]
  },
  {
   "cell_type": "code",
   "execution_count": 5,
   "metadata": {},
   "outputs": [],
   "source": [
    "#- OOP: Data is encapsulated within objects, and access can be controlled:\n",
    "\n",
    "\n",
    "class BankAccount:\n",
    "    def __init__(self):\n",
    "        self.__balance = 0  # Private attribute\n",
    "\n",
    "    def deposit(self, amount):\n",
    "        self.__balance += amount\n",
    "\n",
    "    def get_balance(self):\n",
    "        return self.__balance\n",
    "\n",
    "\n",
    "#- Other methods: Data is often stored in simple structures and manipulated by functions:\n",
    "\n",
    "\n",
    "def create_account():\n",
    "    return {\"balance\": 0}\n",
    "\n",
    "def deposit(account, amount):\n",
    "    account[\"balance\"] += amount\n",
    "\n",
    "def get_balance(account):\n",
    "    return account[\"balance\"]\n",
    "\n"
   ]
  },
  {
   "cell_type": "markdown",
   "metadata": {},
   "source": [
    "#### 3. Code Reuse"
   ]
  },
  {
   "cell_type": "code",
   "execution_count": 6,
   "metadata": {},
   "outputs": [],
   "source": [
    "#- OOP: Utilizes inheritance for code reuse:\n",
    "\n",
    "\n",
    "class Vehicle:\n",
    "    def __init__(self, make, model):\n",
    "        self.make = make\n",
    "        self.model = model\n",
    "\n",
    "class Car(Vehicle):\n",
    "    def __init__(self, make, model, doors):\n",
    "        super().__init__(make, model)\n",
    "        self.doors = doors\n",
    "\n",
    "\n",
    "#- Other methods: Code reuse often relies on function composition or modules:\n",
    "\n",
    "\n",
    "def create_vehicle(make, model):\n",
    "    return {\"make\": make, \"model\": model}\n",
    "\n",
    "def create_car(make, model, doors):\n",
    "    car = create_vehicle(make, model)\n",
    "    car[\"doors\"] = doors\n",
    "    return car\n",
    "\n"
   ]
  },
  {
   "cell_type": "markdown",
   "metadata": {},
   "source": [
    "\n",
    "### Conclusion\n",
    "\n",
    "While Python supports multiple programming paradigms, OOP offers a structured way to design programs using classes and objects. It provides benefits like encapsulation, inheritance, and polymorphism, which are not inherently available in procedural or functional programming. However, Python's flexibility allows developers to choose the most appropriate paradigm for their specific needs, or even combine paradigms within a single project."
   ]
  }
 ],
 "metadata": {
  "kernelspec": {
   "display_name": "base",
   "language": "python",
   "name": "python3"
  },
  "language_info": {
   "codemirror_mode": {
    "name": "ipython",
    "version": 3
   },
   "file_extension": ".py",
   "mimetype": "text/x-python",
   "name": "python",
   "nbconvert_exporter": "python",
   "pygments_lexer": "ipython3",
   "version": "3.9.19"
  }
 },
 "nbformat": 4,
 "nbformat_minor": 2
}
